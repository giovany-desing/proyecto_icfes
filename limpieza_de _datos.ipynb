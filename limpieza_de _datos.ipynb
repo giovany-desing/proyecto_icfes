{
 "cells": [
  {
   "cell_type": "code",
   "execution_count": 1,
   "metadata": {
    "id": "DpONb2CNozZW"
   },
   "outputs": [],
   "source": [
    "import pandas as pd"
   ]
  },
  {
   "cell_type": "markdown",
   "metadata": {
    "id": "tzofwuU3PyIx"
   },
   "source": [
    "# Limpieza de datos"
   ]
  },
  {
   "cell_type": "code",
   "execution_count": 2,
   "metadata": {
    "colab": {
     "base_uri": "https://localhost:8080/"
    },
    "executionInfo": {
     "elapsed": 4071,
     "status": "ok",
     "timestamp": 1638047832892,
     "user": {
      "displayName": "Giovany Samaca",
      "photoUrl": "https://lh3.googleusercontent.com/a-/AOh14Gi8N5inUz-stk5Fu_dVdf03RNFCthnqgd_U72Pj4g=s64",
      "userId": "06955511965500455748"
     },
     "user_tz": 300
    },
    "id": "mn7N5nVfo2ag",
    "outputId": "4cdedae4-1ee9-4021-f73b-b8260ee294a9"
   },
   "outputs": [],
   "source": [
    "dataset = pd.read_excel('resultados_saber_11.xlsx')"
   ]
  },
  {
   "cell_type": "code",
   "execution_count": 3,
   "metadata": {
    "colab": {
     "base_uri": "https://localhost:8080/"
    },
    "executionInfo": {
     "elapsed": 53,
     "status": "ok",
     "timestamp": 1638047832900,
     "user": {
      "displayName": "Giovany Samaca",
      "photoUrl": "https://lh3.googleusercontent.com/a-/AOh14Gi8N5inUz-stk5Fu_dVdf03RNFCthnqgd_U72Pj4g=s64",
      "userId": "06955511965500455748"
     },
     "user_tz": 300
    },
    "id": "cSl0UPFKFy1t",
    "outputId": "70845ca5-e25d-4930-d714-ca47471e69cd"
   },
   "outputs": [
    {
     "data": {
      "text/plain": [
       "(246436, 97)"
      ]
     },
     "execution_count": 3,
     "metadata": {},
     "output_type": "execute_result"
    }
   ],
   "source": [
    "dataset.shape"
   ]
  },
  {
   "cell_type": "code",
   "execution_count": 4,
   "metadata": {
    "colab": {
     "base_uri": "https://localhost:8080/",
     "height": 338
    },
    "executionInfo": {
     "elapsed": 2285,
     "status": "ok",
     "timestamp": 1638047835142,
     "user": {
      "displayName": "Giovany Samaca",
      "photoUrl": "https://lh3.googleusercontent.com/a-/AOh14Gi8N5inUz-stk5Fu_dVdf03RNFCthnqgd_U72Pj4g=s64",
      "userId": "06955511965500455748"
     },
     "user_tz": 300
    },
    "id": "Cb_Ahof7buEE",
    "outputId": "4b44ad4d-e5fc-49a4-d3e8-a4ce6fdc491c"
   },
   "outputs": [
    {
     "data": {
      "text/html": [
       "<div>\n",
       "<style scoped>\n",
       "    .dataframe tbody tr th:only-of-type {\n",
       "        vertical-align: middle;\n",
       "    }\n",
       "\n",
       "    .dataframe tbody tr th {\n",
       "        vertical-align: top;\n",
       "    }\n",
       "\n",
       "    .dataframe thead th {\n",
       "        text-align: right;\n",
       "    }\n",
       "</style>\n",
       "<table border=\"1\" class=\"dataframe\">\n",
       "  <thead>\n",
       "    <tr style=\"text-align: right;\">\n",
       "      <th></th>\n",
       "      <th>ESTU_TIPODOCUMENTO</th>\n",
       "      <th>ESTU_NACIONALIDAD</th>\n",
       "      <th>ESTU_GENERO</th>\n",
       "      <th>ESTU_FECHANACIMIENTO</th>\n",
       "      <th>ESTU_EXTERIOR</th>\n",
       "      <th>PERIODO</th>\n",
       "      <th>ESTU_CONSECUTIVO</th>\n",
       "      <th>ESTU_ESTUDIANTE</th>\n",
       "      <th>ESTU_PAIS_RESIDE</th>\n",
       "      <th>ESTU_DEPTO_RESIDE</th>\n",
       "      <th>...</th>\n",
       "      <th>MOD_COMUNI_ESCRITA_DESEM</th>\n",
       "      <th>MOD_COMUNI_ESCRITA_PNAL</th>\n",
       "      <th>MOD_COMUNI_ESCRITA_PNBC</th>\n",
       "      <th>PUNT_GLOBAL</th>\n",
       "      <th>PERCENTIL_NBC</th>\n",
       "      <th>PERCENTIL_GLOBAL</th>\n",
       "      <th>ESTU_INSE_INDIVIDUAL</th>\n",
       "      <th>ESTU_NSE_INDIVIDUAL</th>\n",
       "      <th>ESTU_NSE_IES</th>\n",
       "      <th>ESTU_ESTADOINVESTIGACION</th>\n",
       "    </tr>\n",
       "  </thead>\n",
       "  <tbody>\n",
       "    <tr>\n",
       "      <th>0</th>\n",
       "      <td>CC</td>\n",
       "      <td>COLOMBIA</td>\n",
       "      <td>M</td>\n",
       "      <td>1990-05-29 00:00:00</td>\n",
       "      <td>NO</td>\n",
       "      <td>20203</td>\n",
       "      <td>EK202030122120</td>\n",
       "      <td>ESTUDIANTE</td>\n",
       "      <td>COLOMBIA</td>\n",
       "      <td>BOGOTÁ</td>\n",
       "      <td>...</td>\n",
       "      <td>2.0</td>\n",
       "      <td>17.0</td>\n",
       "      <td>21.0</td>\n",
       "      <td>117</td>\n",
       "      <td>15.0</td>\n",
       "      <td>11</td>\n",
       "      <td>5.850021e+14</td>\n",
       "      <td>3.0</td>\n",
       "      <td>2</td>\n",
       "      <td>PUBLICAR</td>\n",
       "    </tr>\n",
       "    <tr>\n",
       "      <th>1</th>\n",
       "      <td>CE</td>\n",
       "      <td>VENEZUELA</td>\n",
       "      <td>M</td>\n",
       "      <td>1995-12-28 00:00:00</td>\n",
       "      <td>NO</td>\n",
       "      <td>20203</td>\n",
       "      <td>EK202030183321</td>\n",
       "      <td>ESTUDIANTE</td>\n",
       "      <td>VENEZUELA</td>\n",
       "      <td>BOGOTÁ</td>\n",
       "      <td>...</td>\n",
       "      <td>2.0</td>\n",
       "      <td>43.0</td>\n",
       "      <td>49.0</td>\n",
       "      <td>164</td>\n",
       "      <td>83.0</td>\n",
       "      <td>72</td>\n",
       "      <td>7.613745e+14</td>\n",
       "      <td>4.0</td>\n",
       "      <td>4</td>\n",
       "      <td>PUBLICAR</td>\n",
       "    </tr>\n",
       "    <tr>\n",
       "      <th>2</th>\n",
       "      <td>CC</td>\n",
       "      <td>COLOMBIA</td>\n",
       "      <td>F</td>\n",
       "      <td>1977-12-09 00:00:00</td>\n",
       "      <td>NO</td>\n",
       "      <td>20203</td>\n",
       "      <td>EK202030300407</td>\n",
       "      <td>ESTUDIANTE</td>\n",
       "      <td>COLOMBIA</td>\n",
       "      <td>CESAR</td>\n",
       "      <td>...</td>\n",
       "      <td>2.0</td>\n",
       "      <td>18.0</td>\n",
       "      <td>30.0</td>\n",
       "      <td>124</td>\n",
       "      <td>37.0</td>\n",
       "      <td>17</td>\n",
       "      <td>4.078893e+14</td>\n",
       "      <td>1.0</td>\n",
       "      <td>2</td>\n",
       "      <td>PUBLICAR</td>\n",
       "    </tr>\n",
       "    <tr>\n",
       "      <th>3</th>\n",
       "      <td>CC</td>\n",
       "      <td>COLOMBIA</td>\n",
       "      <td>F</td>\n",
       "      <td>1995-10-01 00:00:00</td>\n",
       "      <td>NO</td>\n",
       "      <td>20203</td>\n",
       "      <td>EK202030168977</td>\n",
       "      <td>ESTUDIANTE</td>\n",
       "      <td>COLOMBIA</td>\n",
       "      <td>LA GUAJIRA</td>\n",
       "      <td>...</td>\n",
       "      <td>2.0</td>\n",
       "      <td>21.0</td>\n",
       "      <td>22.0</td>\n",
       "      <td>133</td>\n",
       "      <td>39.0</td>\n",
       "      <td>28</td>\n",
       "      <td>3.273512e+14</td>\n",
       "      <td>1.0</td>\n",
       "      <td>2</td>\n",
       "      <td>PUBLICAR</td>\n",
       "    </tr>\n",
       "    <tr>\n",
       "      <th>4</th>\n",
       "      <td>CC</td>\n",
       "      <td>COLOMBIA</td>\n",
       "      <td>F</td>\n",
       "      <td>1971-01-21 00:00:00</td>\n",
       "      <td>NO</td>\n",
       "      <td>20203</td>\n",
       "      <td>EK202030323133</td>\n",
       "      <td>ESTUDIANTE</td>\n",
       "      <td>COLOMBIA</td>\n",
       "      <td>ATLANTICO</td>\n",
       "      <td>...</td>\n",
       "      <td>1.0</td>\n",
       "      <td>16.0</td>\n",
       "      <td>17.0</td>\n",
       "      <td>117</td>\n",
       "      <td>18.0</td>\n",
       "      <td>11</td>\n",
       "      <td>4.538131e+13</td>\n",
       "      <td>1.0</td>\n",
       "      <td>2</td>\n",
       "      <td>PUBLICAR</td>\n",
       "    </tr>\n",
       "  </tbody>\n",
       "</table>\n",
       "<p>5 rows × 97 columns</p>\n",
       "</div>"
      ],
      "text/plain": [
       "  ESTU_TIPODOCUMENTO ESTU_NACIONALIDAD ESTU_GENERO ESTU_FECHANACIMIENTO  \\\n",
       "0                 CC          COLOMBIA           M  1990-05-29 00:00:00   \n",
       "1                 CE         VENEZUELA           M  1995-12-28 00:00:00   \n",
       "2                 CC          COLOMBIA           F  1977-12-09 00:00:00   \n",
       "3                 CC          COLOMBIA           F  1995-10-01 00:00:00   \n",
       "4                 CC          COLOMBIA           F  1971-01-21 00:00:00   \n",
       "\n",
       "  ESTU_EXTERIOR  PERIODO ESTU_CONSECUTIVO ESTU_ESTUDIANTE ESTU_PAIS_RESIDE  \\\n",
       "0            NO    20203   EK202030122120      ESTUDIANTE         COLOMBIA   \n",
       "1            NO    20203   EK202030183321      ESTUDIANTE        VENEZUELA   \n",
       "2            NO    20203   EK202030300407      ESTUDIANTE         COLOMBIA   \n",
       "3            NO    20203   EK202030168977      ESTUDIANTE         COLOMBIA   \n",
       "4            NO    20203   EK202030323133      ESTUDIANTE         COLOMBIA   \n",
       "\n",
       "  ESTU_DEPTO_RESIDE  ...  MOD_COMUNI_ESCRITA_DESEM MOD_COMUNI_ESCRITA_PNAL  \\\n",
       "0            BOGOTÁ  ...                       2.0                    17.0   \n",
       "1            BOGOTÁ  ...                       2.0                    43.0   \n",
       "2             CESAR  ...                       2.0                    18.0   \n",
       "3        LA GUAJIRA  ...                       2.0                    21.0   \n",
       "4         ATLANTICO  ...                       1.0                    16.0   \n",
       "\n",
       "   MOD_COMUNI_ESCRITA_PNBC PUNT_GLOBAL PERCENTIL_NBC PERCENTIL_GLOBAL  \\\n",
       "0                     21.0         117          15.0               11   \n",
       "1                     49.0         164          83.0               72   \n",
       "2                     30.0         124          37.0               17   \n",
       "3                     22.0         133          39.0               28   \n",
       "4                     17.0         117          18.0               11   \n",
       "\n",
       "   ESTU_INSE_INDIVIDUAL  ESTU_NSE_INDIVIDUAL ESTU_NSE_IES  \\\n",
       "0          5.850021e+14                  3.0            2   \n",
       "1          7.613745e+14                  4.0            4   \n",
       "2          4.078893e+14                  1.0            2   \n",
       "3          3.273512e+14                  1.0            2   \n",
       "4          4.538131e+13                  1.0            2   \n",
       "\n",
       "  ESTU_ESTADOINVESTIGACION  \n",
       "0                 PUBLICAR  \n",
       "1                 PUBLICAR  \n",
       "2                 PUBLICAR  \n",
       "3                 PUBLICAR  \n",
       "4                 PUBLICAR  \n",
       "\n",
       "[5 rows x 97 columns]"
      ]
     },
     "execution_count": 4,
     "metadata": {},
     "output_type": "execute_result"
    }
   ],
   "source": [
    "dataset.head(5)"
   ]
  },
  {
   "cell_type": "markdown",
   "metadata": {
    "id": "SMSKVMtbboFx"
   },
   "source": [
    "**La base de datos tiene 105 columnas hay que eliminar las que no me aportan informacion**"
   ]
  },
  {
   "cell_type": "code",
   "execution_count": 5,
   "metadata": {
    "id": "p6MPnUlQcq02"
   },
   "outputs": [],
   "source": [
    "dataset = dataset.drop(['ESTU_EXTERIOR','PERIODO','ESTU_CONSECUTIVO','ESTU_ESTUDIANTE','ESTU_PAIS_RESIDE',\n",
    "'ESTU_COD_RESIDE_DEPTO','ESTU_MCPIO_RESIDE','ESTU_COD_RESIDE_MCPIO','ESTU_COLE_TERMINO','ESTU_OTROCOLE_TERMINO','ESTU_CODDANE_COLE_TERMINO',\n",
    "'ESTU_COD_COLE_MCPIO_TERMINO','ESTU_CURSODOCENTESIES','ESTU_CURSOIESAPOYOEXTERNO','ESTU_CURSOIESEXTERNA','ESTU_ACTIVIDADREFUERZOAREAS','ESTU_ACTIVIDADREFUERZOGENERIC',\n",
    "'ESTU_TIPODOCUMENTOSB11','FAMI_TIENELAVADORA','FAMI_TIENEHORNOMICROOGAS','FAMI_CUANTOSCOMPARTEBAÑO','INST_COD_INSTITUCION','INST_NOMBRE_INSTITUCION',\n",
    "'ESTU_SNIES_PRGMACADEMICO','ESTU_PRGM_CODMUNICIPIO','ESTU_PRGM_MUNICIPIO','ESTU_PRGM_DEPARTAMENTO','ESTU_NIVEL_PRGM_ACADEMICO','ESTU_INST_CODMUNICIPIO',\n",
    "'ESTU_INST_MUNICIPIO','ESTU_INST_DEPARTAMENTO','INST_ORIGEN','ESTU_COD_MCPIO_PRESENTACION','ESTU_MCPIO_PRESENTACION','ESTU_DEPTO_PRESENTACION',\n",
    "'ESTU_COD_DEPTO_PRESENTACION','MOD_RAZONA_CUANTITAT_PUNT','MOD_RAZONA_CUANTITAT_DESEM','MOD_RAZONA_CUANTITATIVO_PNBC','MOD_LECTURA_CRITICA_PUNT',\n",
    "'MOD_LECTURA_CRITICA_DESEM','MOD_LECTURA_CRITICA_PNBC','MOD_COMPETEN_CIUDADA_PUNT','MOD_COMPETEN_CIUDADA_DESEM','MOD_COMPETEN_CIUDADA_PNBC',\n",
    "'MOD_INGLES_PUNT','MOD_INGLES_DESEM','MOD_INGLES_PNBC','MOD_COMUNI_ESCRITA_PUNT','MOD_COMUNI_ESCRITA_DESEM','MOD_COMUNI_ESCRITA_PNBC',\n",
    "'PERCENTIL_NBC','PERCENTIL_GLOBAL','ESTU_INSE_INDIVIDUAL','ESTU_NSE_INDIVIDUAL','ESTU_NSE_IES','ESTU_ESTADOINVESTIGACION'],axis = 1)"
   ]
  },
  {
   "cell_type": "code",
   "execution_count": 6,
   "metadata": {
    "colab": {
     "base_uri": "https://localhost:8080/"
    },
    "executionInfo": {
     "elapsed": 892,
     "status": "ok",
     "timestamp": 1638047835172,
     "user": {
      "displayName": "Giovany Samaca",
      "photoUrl": "https://lh3.googleusercontent.com/a-/AOh14Gi8N5inUz-stk5Fu_dVdf03RNFCthnqgd_U72Pj4g=s64",
      "userId": "06955511965500455748"
     },
     "user_tz": 300
    },
    "id": "6jFRNVyeP6Or",
    "outputId": "64415d2d-7083-4a39-8bd4-e4a2a542c54b"
   },
   "outputs": [
    {
     "data": {
      "text/plain": [
       "Index(['ESTU_TIPODOCUMENTO', 'ESTU_NACIONALIDAD', 'ESTU_GENERO',\n",
       "       'ESTU_FECHANACIMIENTO', 'ESTU_DEPTO_RESIDE', 'ESTU_AREARESIDE',\n",
       "       'ESTU_ESTADOCIVIL', 'ESTU_TITULOOBTENIDOBACHILLER',\n",
       "       'ESTU_VALORMATRICULAUNIVERSIDAD', 'ESTU_PAGOMATRICULABECA',\n",
       "       'ESTU_PAGOMATRICULACREDITO', 'ESTU_PAGOMATRICULAPADRES',\n",
       "       'ESTU_PAGOMATRICULAPROPIO', 'ESTU_COMOCAPACITOEXAMENSB11',\n",
       "       'ESTU_SIMULACROTIPOICFES', 'ESTU_SEMESTRECURSA', 'FAMI_EDUCACIONPADRE',\n",
       "       'FAMI_EDUCACIONMADRE', 'FAMI_TRABAJOLABORPADRE',\n",
       "       'FAMI_TRABAJOLABORMADRE', 'FAMI_ESTRATOVIVIENDA', 'FAMI_TIENEINTERNET',\n",
       "       'FAMI_TIENECOMPUTADOR', 'FAMI_TIENESERVICIOTV', 'FAMI_TIENEAUTOMOVIL',\n",
       "       'FAMI_TIENEMOTOCICLETA', 'FAMI_TIENECONSOLAVIDEOJUEGOS',\n",
       "       'ESTU_HORASSEMANATRABAJA', 'ESTU_PRGM_ACADEMICO', 'GRUPOREFERENCIA',\n",
       "       'ESTU_METODO_PRGM', 'ESTU_NUCLEO_PREGRADO', 'INST_CARACTER_ACADEMICO',\n",
       "       'ESTU_PRIVADO_LIBERTAD', 'MOD_RAZONA_CUANTITATIVO_PNAL',\n",
       "       'MOD_LECTURA_CRITICA_PNAL', 'MOD_COMPETEN_CIUDADA_PNAL',\n",
       "       'MOD_INGLES_PNAL', 'MOD_COMUNI_ESCRITA_PNAL', 'PUNT_GLOBAL'],\n",
       "      dtype='object')"
      ]
     },
     "execution_count": 6,
     "metadata": {},
     "output_type": "execute_result"
    }
   ],
   "source": [
    "dataset.columns"
   ]
  },
  {
   "cell_type": "code",
   "execution_count": 7,
   "metadata": {
    "id": "EhEX-AA4uOt2"
   },
   "outputs": [],
   "source": [
    "dataset = dataset.drop(['ESTU_TIPODOCUMENTO','ESTU_NACIONALIDAD','ESTU_DEPTO_RESIDE','ESTU_VALORMATRICULAUNIVERSIDAD','ESTU_METODO_PRGM',\n",
    "'ESTU_SEMESTRECURSA','ESTU_PRIVADO_LIBERTAD','FAMI_TRABAJOLABORPADRE','FAMI_TRABAJOLABORMADRE'],axis=1)"
   ]
  },
  {
   "cell_type": "code",
   "execution_count": 8,
   "metadata": {
    "id": "6lLwMcZpGetZ"
   },
   "outputs": [],
   "source": [
    "dataset = dataset.drop(['ESTU_PAGOMATRICULABECA','ESTU_PAGOMATRICULACREDITO','ESTU_PAGOMATRICULAPADRES',\n",
    "                        'ESTU_PAGOMATRICULAPROPIO'],axis = 1)\n"
   ]
  },
  {
   "cell_type": "code",
   "execution_count": 9,
   "metadata": {
    "id": "7BT9kv1SOBFp"
   },
   "outputs": [],
   "source": [
    "dataset = dataset.drop(['ESTU_PRGM_ACADEMICO','FAMI_TIENEMOTOCICLETA','FAMI_TIENEAUTOMOVIL','INST_CARACTER_ACADEMICO'],axis=1)"
   ]
  },
  {
   "cell_type": "code",
   "execution_count": 10,
   "metadata": {},
   "outputs": [],
   "source": [
    "dataset = dataset.drop(['ESTU_ESTADOCIVIL','ESTU_TITULOOBTENIDOBACHILLER','GRUPOREFERENCIA'],axis=1)"
   ]
  },
  {
   "cell_type": "code",
   "execution_count": 11,
   "metadata": {
    "id": "x_99N25U7sFU"
   },
   "outputs": [],
   "source": [
    "dataset = dataset.drop(['ESTU_NUCLEO_PREGRADO'],axis=1)"
   ]
  },
  {
   "cell_type": "code",
   "execution_count": 12,
   "metadata": {
    "colab": {
     "base_uri": "https://localhost:8080/",
     "height": 292
    },
    "executionInfo": {
     "elapsed": 15,
     "status": "ok",
     "timestamp": 1638047835328,
     "user": {
      "displayName": "Giovany Samaca",
      "photoUrl": "https://lh3.googleusercontent.com/a-/AOh14Gi8N5inUz-stk5Fu_dVdf03RNFCthnqgd_U72Pj4g=s64",
      "userId": "06955511965500455748"
     },
     "user_tz": 300
    },
    "id": "W0Q25KEdzFnD",
    "outputId": "89768d8e-5f95-4a7d-8d1e-ec3596b6d260"
   },
   "outputs": [
    {
     "data": {
      "text/html": [
       "<div>\n",
       "<style scoped>\n",
       "    .dataframe tbody tr th:only-of-type {\n",
       "        vertical-align: middle;\n",
       "    }\n",
       "\n",
       "    .dataframe tbody tr th {\n",
       "        vertical-align: top;\n",
       "    }\n",
       "\n",
       "    .dataframe thead th {\n",
       "        text-align: right;\n",
       "    }\n",
       "</style>\n",
       "<table border=\"1\" class=\"dataframe\">\n",
       "  <thead>\n",
       "    <tr style=\"text-align: right;\">\n",
       "      <th></th>\n",
       "      <th>ESTU_GENERO</th>\n",
       "      <th>ESTU_FECHANACIMIENTO</th>\n",
       "      <th>ESTU_AREARESIDE</th>\n",
       "      <th>ESTU_COMOCAPACITOEXAMENSB11</th>\n",
       "      <th>ESTU_SIMULACROTIPOICFES</th>\n",
       "      <th>FAMI_EDUCACIONPADRE</th>\n",
       "      <th>FAMI_EDUCACIONMADRE</th>\n",
       "      <th>FAMI_ESTRATOVIVIENDA</th>\n",
       "      <th>FAMI_TIENEINTERNET</th>\n",
       "      <th>FAMI_TIENECOMPUTADOR</th>\n",
       "      <th>FAMI_TIENESERVICIOTV</th>\n",
       "      <th>FAMI_TIENECONSOLAVIDEOJUEGOS</th>\n",
       "      <th>ESTU_HORASSEMANATRABAJA</th>\n",
       "      <th>MOD_RAZONA_CUANTITATIVO_PNAL</th>\n",
       "      <th>MOD_LECTURA_CRITICA_PNAL</th>\n",
       "      <th>MOD_COMPETEN_CIUDADA_PNAL</th>\n",
       "      <th>MOD_INGLES_PNAL</th>\n",
       "      <th>MOD_COMUNI_ESCRITA_PNAL</th>\n",
       "      <th>PUNT_GLOBAL</th>\n",
       "    </tr>\n",
       "  </thead>\n",
       "  <tbody>\n",
       "    <tr>\n",
       "      <th>0</th>\n",
       "      <td>M</td>\n",
       "      <td>1990-05-29 00:00:00</td>\n",
       "      <td>Cabecera Municipal</td>\n",
       "      <td>Repasó por cuenta propia</td>\n",
       "      <td>NaN</td>\n",
       "      <td>Secundaria (Bachillerato) incompleta</td>\n",
       "      <td>Primaria incompleta</td>\n",
       "      <td>Estrato 2</td>\n",
       "      <td>Si</td>\n",
       "      <td>Si</td>\n",
       "      <td>Si</td>\n",
       "      <td>No</td>\n",
       "      <td>Más de 30 horas</td>\n",
       "      <td>36</td>\n",
       "      <td>8</td>\n",
       "      <td>8</td>\n",
       "      <td>10</td>\n",
       "      <td>17.0</td>\n",
       "      <td>117</td>\n",
       "    </tr>\n",
       "    <tr>\n",
       "      <th>1</th>\n",
       "      <td>M</td>\n",
       "      <td>1995-12-28 00:00:00</td>\n",
       "      <td>Cabecera Municipal</td>\n",
       "      <td>No realizó ninguna prueba de preparación</td>\n",
       "      <td>NaN</td>\n",
       "      <td>Educación profesional completa</td>\n",
       "      <td>Educación profesional completa</td>\n",
       "      <td>Estrato 4</td>\n",
       "      <td>Si</td>\n",
       "      <td>Si</td>\n",
       "      <td>Si</td>\n",
       "      <td>Si</td>\n",
       "      <td>Más de 30 horas</td>\n",
       "      <td>59</td>\n",
       "      <td>94</td>\n",
       "      <td>46</td>\n",
       "      <td>79</td>\n",
       "      <td>43.0</td>\n",
       "      <td>164</td>\n",
       "    </tr>\n",
       "    <tr>\n",
       "      <th>2</th>\n",
       "      <td>F</td>\n",
       "      <td>1977-12-09 00:00:00</td>\n",
       "      <td>Cabecera Municipal</td>\n",
       "      <td>Repasó por cuenta propia</td>\n",
       "      <td>NaN</td>\n",
       "      <td>Secundaria (Bachillerato) completa</td>\n",
       "      <td>Primaria incompleta</td>\n",
       "      <td>Estrato 2</td>\n",
       "      <td>Si</td>\n",
       "      <td>No</td>\n",
       "      <td>Si</td>\n",
       "      <td>No</td>\n",
       "      <td>Entre 11 y 20 horas</td>\n",
       "      <td>17</td>\n",
       "      <td>29</td>\n",
       "      <td>19</td>\n",
       "      <td>22</td>\n",
       "      <td>18.0</td>\n",
       "      <td>124</td>\n",
       "    </tr>\n",
       "    <tr>\n",
       "      <th>3</th>\n",
       "      <td>F</td>\n",
       "      <td>1995-10-01 00:00:00</td>\n",
       "      <td>Cabecera Municipal</td>\n",
       "      <td>Repasó por cuenta propia</td>\n",
       "      <td>NaN</td>\n",
       "      <td>Primaria incompleta</td>\n",
       "      <td>Ninguno</td>\n",
       "      <td>Estrato 1</td>\n",
       "      <td>Si</td>\n",
       "      <td>Si</td>\n",
       "      <td>No</td>\n",
       "      <td>No</td>\n",
       "      <td>Entre 21 y 30 horas</td>\n",
       "      <td>17</td>\n",
       "      <td>52</td>\n",
       "      <td>37</td>\n",
       "      <td>24</td>\n",
       "      <td>21.0</td>\n",
       "      <td>133</td>\n",
       "    </tr>\n",
       "    <tr>\n",
       "      <th>4</th>\n",
       "      <td>F</td>\n",
       "      <td>1971-01-21 00:00:00</td>\n",
       "      <td>Cabecera Municipal</td>\n",
       "      <td>Repasó por cuenta propia</td>\n",
       "      <td>NaN</td>\n",
       "      <td>Primaria completa</td>\n",
       "      <td>Primaria completa</td>\n",
       "      <td>Estrato 1</td>\n",
       "      <td>No</td>\n",
       "      <td>Si</td>\n",
       "      <td>Si</td>\n",
       "      <td>No</td>\n",
       "      <td>Más de 30 horas</td>\n",
       "      <td>40</td>\n",
       "      <td>11</td>\n",
       "      <td>9</td>\n",
       "      <td>6</td>\n",
       "      <td>16.0</td>\n",
       "      <td>117</td>\n",
       "    </tr>\n",
       "  </tbody>\n",
       "</table>\n",
       "</div>"
      ],
      "text/plain": [
       "  ESTU_GENERO ESTU_FECHANACIMIENTO     ESTU_AREARESIDE  \\\n",
       "0           M  1990-05-29 00:00:00  Cabecera Municipal   \n",
       "1           M  1995-12-28 00:00:00  Cabecera Municipal   \n",
       "2           F  1977-12-09 00:00:00  Cabecera Municipal   \n",
       "3           F  1995-10-01 00:00:00  Cabecera Municipal   \n",
       "4           F  1971-01-21 00:00:00  Cabecera Municipal   \n",
       "\n",
       "                ESTU_COMOCAPACITOEXAMENSB11 ESTU_SIMULACROTIPOICFES  \\\n",
       "0                  Repasó por cuenta propia                     NaN   \n",
       "1  No realizó ninguna prueba de preparación                     NaN   \n",
       "2                  Repasó por cuenta propia                     NaN   \n",
       "3                  Repasó por cuenta propia                     NaN   \n",
       "4                  Repasó por cuenta propia                     NaN   \n",
       "\n",
       "                    FAMI_EDUCACIONPADRE             FAMI_EDUCACIONMADRE  \\\n",
       "0  Secundaria (Bachillerato) incompleta             Primaria incompleta   \n",
       "1        Educación profesional completa  Educación profesional completa   \n",
       "2    Secundaria (Bachillerato) completa             Primaria incompleta   \n",
       "3                   Primaria incompleta                         Ninguno   \n",
       "4                     Primaria completa               Primaria completa   \n",
       "\n",
       "  FAMI_ESTRATOVIVIENDA FAMI_TIENEINTERNET FAMI_TIENECOMPUTADOR  \\\n",
       "0            Estrato 2                 Si                   Si   \n",
       "1            Estrato 4                 Si                   Si   \n",
       "2            Estrato 2                 Si                   No   \n",
       "3            Estrato 1                 Si                   Si   \n",
       "4            Estrato 1                 No                   Si   \n",
       "\n",
       "  FAMI_TIENESERVICIOTV FAMI_TIENECONSOLAVIDEOJUEGOS ESTU_HORASSEMANATRABAJA  \\\n",
       "0                   Si                           No         Más de 30 horas   \n",
       "1                   Si                           Si         Más de 30 horas   \n",
       "2                   Si                           No     Entre 11 y 20 horas   \n",
       "3                   No                           No     Entre 21 y 30 horas   \n",
       "4                   Si                           No         Más de 30 horas   \n",
       "\n",
       "   MOD_RAZONA_CUANTITATIVO_PNAL  MOD_LECTURA_CRITICA_PNAL  \\\n",
       "0                            36                         8   \n",
       "1                            59                        94   \n",
       "2                            17                        29   \n",
       "3                            17                        52   \n",
       "4                            40                        11   \n",
       "\n",
       "   MOD_COMPETEN_CIUDADA_PNAL  MOD_INGLES_PNAL  MOD_COMUNI_ESCRITA_PNAL  \\\n",
       "0                          8               10                     17.0   \n",
       "1                         46               79                     43.0   \n",
       "2                         19               22                     18.0   \n",
       "3                         37               24                     21.0   \n",
       "4                          9                6                     16.0   \n",
       "\n",
       "   PUNT_GLOBAL  \n",
       "0          117  \n",
       "1          164  \n",
       "2          124  \n",
       "3          133  \n",
       "4          117  "
      ]
     },
     "execution_count": 12,
     "metadata": {},
     "output_type": "execute_result"
    }
   ],
   "source": [
    "dataset.head()"
   ]
  },
  {
   "cell_type": "markdown",
   "metadata": {
    "id": "Z876TZ5qQbme"
   },
   "source": [
    "# Ya tengo las columnas que quiero analizar lo siguente es tratar con los valores faltantes"
   ]
  },
  {
   "cell_type": "code",
   "execution_count": 13,
   "metadata": {
    "colab": {
     "base_uri": "https://localhost:8080/"
    },
    "executionInfo": {
     "elapsed": 34,
     "status": "ok",
     "timestamp": 1638047837834,
     "user": {
      "displayName": "Giovany Samaca",
      "photoUrl": "https://lh3.googleusercontent.com/a-/AOh14Gi8N5inUz-stk5Fu_dVdf03RNFCthnqgd_U72Pj4g=s64",
      "userId": "06955511965500455748"
     },
     "user_tz": 300
    },
    "id": "-a2PxXXSQM8G",
    "outputId": "1cfca583-94cd-4881-8866-fe33f1ec160b"
   },
   "outputs": [
    {
     "name": "stdout",
     "output_type": "stream",
     "text": [
      "<class 'pandas.core.frame.DataFrame'>\n",
      "RangeIndex: 246436 entries, 0 to 246435\n",
      "Data columns (total 19 columns):\n",
      " #   Column                        Non-Null Count   Dtype  \n",
      "---  ------                        --------------   -----  \n",
      " 0   ESTU_GENERO                   246363 non-null  object \n",
      " 1   ESTU_FECHANACIMIENTO          246397 non-null  object \n",
      " 2   ESTU_AREARESIDE               244728 non-null  object \n",
      " 3   ESTU_COMOCAPACITOEXAMENSB11   244715 non-null  object \n",
      " 4   ESTU_SIMULACROTIPOICFES       25088 non-null   object \n",
      " 5   FAMI_EDUCACIONPADRE           242758 non-null  object \n",
      " 6   FAMI_EDUCACIONMADRE           242510 non-null  object \n",
      " 7   FAMI_ESTRATOVIVIENDA          241644 non-null  object \n",
      " 8   FAMI_TIENEINTERNET            241461 non-null  object \n",
      " 9   FAMI_TIENECOMPUTADOR          238856 non-null  object \n",
      " 10  FAMI_TIENESERVICIOTV          241185 non-null  object \n",
      " 11  FAMI_TIENECONSOLAVIDEOJUEGOS  234558 non-null  object \n",
      " 12  ESTU_HORASSEMANATRABAJA       239576 non-null  object \n",
      " 13  MOD_RAZONA_CUANTITATIVO_PNAL  246436 non-null  int64  \n",
      " 14  MOD_LECTURA_CRITICA_PNAL      246436 non-null  int64  \n",
      " 15  MOD_COMPETEN_CIUDADA_PNAL     246436 non-null  int64  \n",
      " 16  MOD_INGLES_PNAL               246436 non-null  int64  \n",
      " 17  MOD_COMUNI_ESCRITA_PNAL       246435 non-null  float64\n",
      " 18  PUNT_GLOBAL                   246436 non-null  int64  \n",
      "dtypes: float64(1), int64(5), object(13)\n",
      "memory usage: 35.7+ MB\n"
     ]
    }
   ],
   "source": [
    "dataset.info()"
   ]
  },
  {
   "cell_type": "code",
   "execution_count": 14,
   "metadata": {
    "colab": {
     "base_uri": "https://localhost:8080/"
    },
    "executionInfo": {
     "elapsed": 30,
     "status": "ok",
     "timestamp": 1638047837836,
     "user": {
      "displayName": "Giovany Samaca",
      "photoUrl": "https://lh3.googleusercontent.com/a-/AOh14Gi8N5inUz-stk5Fu_dVdf03RNFCthnqgd_U72Pj4g=s64",
      "userId": "06955511965500455748"
     },
     "user_tz": 300
    },
    "id": "haJ1e31Miu_O",
    "outputId": "060581d2-513a-4683-b40d-f7413ab51038"
   },
   "outputs": [
    {
     "data": {
      "text/plain": [
       "(246436, 19)"
      ]
     },
     "execution_count": 14,
     "metadata": {},
     "output_type": "execute_result"
    }
   ],
   "source": [
    "dataset.shape"
   ]
  },
  {
   "cell_type": "code",
   "execution_count": 15,
   "metadata": {
    "colab": {
     "base_uri": "https://localhost:8080/"
    },
    "executionInfo": {
     "elapsed": 20,
     "status": "ok",
     "timestamp": 1638047837837,
     "user": {
      "displayName": "Giovany Samaca",
      "photoUrl": "https://lh3.googleusercontent.com/a-/AOh14Gi8N5inUz-stk5Fu_dVdf03RNFCthnqgd_U72Pj4g=s64",
      "userId": "06955511965500455748"
     },
     "user_tz": 300
    },
    "id": "LrDBINI_QmR7",
    "outputId": "4a9126b1-24d1-4290-fedf-6bd3e661e504"
   },
   "outputs": [
    {
     "data": {
      "text/plain": [
       "array([nan, 'Si', 'No'], dtype=object)"
      ]
     },
     "execution_count": 15,
     "metadata": {},
     "output_type": "execute_result"
    }
   ],
   "source": [
    "dataset['ESTU_SIMULACROTIPOICFES'].unique()"
   ]
  },
  {
   "cell_type": "code",
   "execution_count": 16,
   "metadata": {
    "id": "4y6wl82ai5C6"
   },
   "outputs": [],
   "source": [
    "dataset['ESTU_SIMULACROTIPOICFES'] = dataset['ESTU_SIMULACROTIPOICFES'].fillna('No responde')"
   ]
  },
  {
   "cell_type": "markdown",
   "metadata": {
    "id": "-e5NeDF5515E"
   },
   "source": [
    "# La base de datos contiene 246.436 registros son bastantes y mas que suficientes para analizar, Entonces elimino todos los registros que tengan valores faltantes en sus columnas. "
   ]
  },
  {
   "cell_type": "code",
   "execution_count": 17,
   "metadata": {
    "id": "QRBIqLRng5b5"
   },
   "outputs": [],
   "source": [
    "dataset = dataset.dropna()"
   ]
  },
  {
   "cell_type": "code",
   "execution_count": 18,
   "metadata": {
    "colab": {
     "base_uri": "https://localhost:8080/"
    },
    "executionInfo": {
     "elapsed": 24,
     "status": "ok",
     "timestamp": 1638047840033,
     "user": {
      "displayName": "Giovany Samaca",
      "photoUrl": "https://lh3.googleusercontent.com/a-/AOh14Gi8N5inUz-stk5Fu_dVdf03RNFCthnqgd_U72Pj4g=s64",
      "userId": "06955511965500455748"
     },
     "user_tz": 300
    },
    "id": "34kHKJiwifGk",
    "outputId": "1c874af1-6022-4231-e3cb-723add48eb40"
   },
   "outputs": [
    {
     "data": {
      "text/plain": [
       "Index(['ESTU_GENERO', 'ESTU_FECHANACIMIENTO', 'ESTU_AREARESIDE',\n",
       "       'ESTU_COMOCAPACITOEXAMENSB11', 'ESTU_SIMULACROTIPOICFES',\n",
       "       'FAMI_EDUCACIONPADRE', 'FAMI_EDUCACIONMADRE', 'FAMI_ESTRATOVIVIENDA',\n",
       "       'FAMI_TIENEINTERNET', 'FAMI_TIENECOMPUTADOR', 'FAMI_TIENESERVICIOTV',\n",
       "       'FAMI_TIENECONSOLAVIDEOJUEGOS', 'ESTU_HORASSEMANATRABAJA',\n",
       "       'MOD_RAZONA_CUANTITATIVO_PNAL', 'MOD_LECTURA_CRITICA_PNAL',\n",
       "       'MOD_COMPETEN_CIUDADA_PNAL', 'MOD_INGLES_PNAL',\n",
       "       'MOD_COMUNI_ESCRITA_PNAL', 'PUNT_GLOBAL'],\n",
       "      dtype='object')"
      ]
     },
     "execution_count": 18,
     "metadata": {},
     "output_type": "execute_result"
    }
   ],
   "source": [
    "dataset.columns"
   ]
  },
  {
   "cell_type": "markdown",
   "metadata": {
    "id": "SgWwziIJ9I4d"
   },
   "source": [
    "# La columna 'ESTU_FECHANACIMIENTO' fecha de naciemiento de los estudiantes no me aporta informacion, pero de esa columna puedo calcular la edad de los estudiantes que esos datos si me pueden aportan mas conocimieto."
   ]
  },
  {
   "cell_type": "code",
   "execution_count": 19,
   "metadata": {
    "colab": {
     "base_uri": "https://localhost:8080/"
    },
    "executionInfo": {
     "elapsed": 11,
     "status": "ok",
     "timestamp": 1638047840868,
     "user": {
      "displayName": "Giovany Samaca",
      "photoUrl": "https://lh3.googleusercontent.com/a-/AOh14Gi8N5inUz-stk5Fu_dVdf03RNFCthnqgd_U72Pj4g=s64",
      "userId": "06955511965500455748"
     },
     "user_tz": 300
    },
    "id": "TGN0yozy3vSf",
    "outputId": "71fd7f1e-6133-4ba4-b18a-d65e5905431f"
   },
   "outputs": [
    {
     "data": {
      "text/plain": [
       "0    1990-05-29 00:00:00\n",
       "Name: ESTU_FECHANACIMIENTO, dtype: object"
      ]
     },
     "execution_count": 19,
     "metadata": {},
     "output_type": "execute_result"
    }
   ],
   "source": [
    "dataset['ESTU_FECHANACIMIENTO'].head(1)"
   ]
  },
  {
   "cell_type": "code",
   "execution_count": 20,
   "metadata": {
    "id": "wcnvn98k_EdJ"
   },
   "outputs": [],
   "source": [
    "dataset['ESTU_FECHANACIMIENTO'] = dataset['ESTU_FECHANACIMIENTO'].apply(lambda x: str(str(x)[:10]))"
   ]
  },
  {
   "cell_type": "code",
   "execution_count": 21,
   "metadata": {
    "id": "pcbUPZqP_vxs"
   },
   "outputs": [],
   "source": [
    "dataset['ESTU_FECHANACIMIENTO'] = pd.to_datetime(dataset['ESTU_FECHANACIMIENTO'],errors = 'coerce')"
   ]
  },
  {
   "cell_type": "code",
   "execution_count": 22,
   "metadata": {
    "id": "n97UDW4__x2K"
   },
   "outputs": [],
   "source": [
    "dataset['ESTU_FECHANACIMIENTO'] = dataset['ESTU_FECHANACIMIENTO'].dt.year.apply(lambda x:2019 - x)"
   ]
  },
  {
   "cell_type": "code",
   "execution_count": 23,
   "metadata": {
    "id": "vkbr3KzzLUO1"
   },
   "outputs": [],
   "source": [
    "dataset = dataset.rename(columns={'ESTU_FECHANACIMIENTO':'EDAD'})"
   ]
  },
  {
   "cell_type": "markdown",
   "metadata": {
    "id": "ylJ2AqBQOE3u"
   },
   "source": [
    "**La columna que modifique (las edades de los estudiantes) quedo con valores nulos, esto es porque habian fechas con formato incorrecto, estos datos faltantes los voy a rellenar con el promedio de las edades.**"
   ]
  },
  {
   "cell_type": "code",
   "execution_count": 24,
   "metadata": {
    "id": "ovjjiAGNC_o3"
   },
   "outputs": [],
   "source": [
    "import numpy as np"
   ]
  },
  {
   "cell_type": "code",
   "execution_count": 25,
   "metadata": {
    "id": "Gpg5DMFhOnw5"
   },
   "outputs": [],
   "source": [
    "dataset['EDAD'] = dataset['EDAD'].replace(np.nan , dataset['EDAD'].mean())"
   ]
  },
  {
   "cell_type": "code",
   "execution_count": 26,
   "metadata": {
    "id": "sBpaZ8tjO18C"
   },
   "outputs": [],
   "source": [
    "# elimino los decimales de mas\n",
    "pd.options.display.float_format = '{:,.1f}'.format"
   ]
  },
  {
   "cell_type": "markdown",
   "metadata": {
    "id": "sj5eWg1j1dSy"
   },
   "source": [
    "# Ahora verifico como quedaron distribuidas las edades"
   ]
  },
  {
   "cell_type": "code",
   "execution_count": 27,
   "metadata": {
    "colab": {
     "base_uri": "https://localhost:8080/",
     "height": 265
    },
    "executionInfo": {
     "elapsed": 24,
     "status": "ok",
     "timestamp": 1638047849576,
     "user": {
      "displayName": "Giovany Samaca",
      "photoUrl": "https://lh3.googleusercontent.com/a-/AOh14Gi8N5inUz-stk5Fu_dVdf03RNFCthnqgd_U72Pj4g=s64",
      "userId": "06955511965500455748"
     },
     "user_tz": 300
    },
    "id": "Ht2Uf9T61c5C",
    "outputId": "57eca888-b9bd-4309-c58b-83fe22d9c7ef"
   },
   "outputs": [
    {
     "data": {
      "image/png": "[encoded data removed]",
      "text/plain": [
       "<Figure size 640x480 with 1 Axes>"
      ]
     },
     "metadata": {},
     "output_type": "display_data"
    }
   ],
   "source": [
    "import matplotlib.pyplot as plt\n",
    "\n",
    "plt.boxplot(dataset['EDAD'], vert = False)\n",
    "plt.show()"
   ]
  },
  {
   "cell_type": "markdown",
   "metadata": {
    "id": "nDlvsm3LKZl-"
   },
   "source": [
    "**Las edades de los estidiantes tiene bastantes valores atipicos, hay que eliminarlos por que estos valores pueden generar sesgo a la hora de implementan un algoritmo de machine learning**"
   ]
  },
  {
   "cell_type": "code",
   "execution_count": 33,
   "metadata": {
    "id": "qgqMdu-i2iip"
   },
   "outputs": [],
   "source": [
    "#dataset = dataset[(dataset['EDAD']>13) & (dataset['EDAD']<30)]"
   ]
  },
  {
   "cell_type": "code",
   "execution_count": 34,
   "metadata": {
    "colab": {
     "base_uri": "https://localhost:8080/"
    },
    "executionInfo": {
     "elapsed": 19,
     "status": "ok",
     "timestamp": 1638047850386,
     "user": {
      "displayName": "Giovany Samaca",
      "photoUrl": "https://lh3.googleusercontent.com/a-/AOh14Gi8N5inUz-stk5Fu_dVdf03RNFCthnqgd_U72Pj4g=s64",
      "userId": "06955511965500455748"
     },
     "user_tz": 300
    },
    "id": "Bm3Govg532Av",
    "outputId": "fab5f628-ec0c-43b7-a1a4-e8429d16abff"
   },
   "outputs": [
    {
     "data": {
      "text/plain": [
       "(231298, 19)"
      ]
     },
     "execution_count": 34,
     "metadata": {},
     "output_type": "execute_result"
    }
   ],
   "source": [
    "dataset.shape"
   ]
  },
  {
   "cell_type": "code",
   "execution_count": 35,
   "metadata": {
    "colab": {
     "base_uri": "https://localhost:8080/",
     "height": 265
    },
    "executionInfo": {
     "elapsed": 11,
     "status": "ok",
     "timestamp": 1638047850388,
     "user": {
      "displayName": "Giovany Samaca",
      "photoUrl": "https://lh3.googleusercontent.com/a-/AOh14Gi8N5inUz-stk5Fu_dVdf03RNFCthnqgd_U72Pj4g=s64",
      "userId": "06955511965500455748"
     },
     "user_tz": 300
    },
    "id": "uZfJEWDI31Zi",
    "outputId": "1cbe9165-e528-46c1-a376-0016d3d738fa"
   },
   "outputs": [
    {
     "data": {
      "image/png": "[encoded data removed]",
      "text/plain": [
       "<Figure size 640x480 with 1 Axes>"
      ]
     },
     "metadata": {},
     "output_type": "display_data"
    }
   ],
   "source": [
    "plt.boxplot(dataset['EDAD'], vert = False)\n",
    "plt.show()"
   ]
  },
  {
   "cell_type": "code",
   "execution_count": 36,
   "metadata": {
    "id": "q5av2hXRPUGn"
   },
   "outputs": [],
   "source": [
    "pd.options.display.float_format = '{:,.0f}'.format"
   ]
  },
  {
   "cell_type": "code",
   "execution_count": 37,
   "metadata": {
    "colab": {
     "base_uri": "https://localhost:8080/",
     "height": 292
    },
    "executionInfo": {
     "elapsed": 8,
     "status": "ok",
     "timestamp": 1638047852241,
     "user": {
      "displayName": "Giovany Samaca",
      "photoUrl": "https://lh3.googleusercontent.com/a-/AOh14Gi8N5inUz-stk5Fu_dVdf03RNFCthnqgd_U72Pj4g=s64",
      "userId": "06955511965500455748"
     },
     "user_tz": 300
    },
    "id": "YaMaJCR1RGpv",
    "outputId": "11a12743-b444-4ec1-e6e7-93c44eecb26e"
   },
   "outputs": [
    {
     "data": {
      "text/html": [
       "<div>\n",
       "<style scoped>\n",
       "    .dataframe tbody tr th:only-of-type {\n",
       "        vertical-align: middle;\n",
       "    }\n",
       "\n",
       "    .dataframe tbody tr th {\n",
       "        vertical-align: top;\n",
       "    }\n",
       "\n",
       "    .dataframe thead th {\n",
       "        text-align: right;\n",
       "    }\n",
       "</style>\n",
       "<table border=\"1\" class=\"dataframe\">\n",
       "  <thead>\n",
       "    <tr style=\"text-align: right;\">\n",
       "      <th></th>\n",
       "      <th>ESTU_GENERO</th>\n",
       "      <th>EDAD</th>\n",
       "      <th>ESTU_AREARESIDE</th>\n",
       "      <th>ESTU_COMOCAPACITOEXAMENSB11</th>\n",
       "      <th>ESTU_SIMULACROTIPOICFES</th>\n",
       "      <th>FAMI_EDUCACIONPADRE</th>\n",
       "      <th>FAMI_EDUCACIONMADRE</th>\n",
       "      <th>FAMI_ESTRATOVIVIENDA</th>\n",
       "      <th>FAMI_TIENEINTERNET</th>\n",
       "      <th>FAMI_TIENECOMPUTADOR</th>\n",
       "      <th>FAMI_TIENESERVICIOTV</th>\n",
       "      <th>FAMI_TIENECONSOLAVIDEOJUEGOS</th>\n",
       "      <th>ESTU_HORASSEMANATRABAJA</th>\n",
       "      <th>MOD_RAZONA_CUANTITATIVO_PNAL</th>\n",
       "      <th>MOD_LECTURA_CRITICA_PNAL</th>\n",
       "      <th>MOD_COMPETEN_CIUDADA_PNAL</th>\n",
       "      <th>MOD_INGLES_PNAL</th>\n",
       "      <th>MOD_COMUNI_ESCRITA_PNAL</th>\n",
       "      <th>PUNT_GLOBAL</th>\n",
       "    </tr>\n",
       "  </thead>\n",
       "  <tbody>\n",
       "    <tr>\n",
       "      <th>0</th>\n",
       "      <td>M</td>\n",
       "      <td>29</td>\n",
       "      <td>Cabecera Municipal</td>\n",
       "      <td>Repasó por cuenta propia</td>\n",
       "      <td>No responde</td>\n",
       "      <td>Secundaria (Bachillerato) incompleta</td>\n",
       "      <td>Primaria incompleta</td>\n",
       "      <td>Estrato 2</td>\n",
       "      <td>Si</td>\n",
       "      <td>Si</td>\n",
       "      <td>Si</td>\n",
       "      <td>No</td>\n",
       "      <td>Más de 30 horas</td>\n",
       "      <td>36</td>\n",
       "      <td>8</td>\n",
       "      <td>8</td>\n",
       "      <td>10</td>\n",
       "      <td>17</td>\n",
       "      <td>117</td>\n",
       "    </tr>\n",
       "    <tr>\n",
       "      <th>1</th>\n",
       "      <td>M</td>\n",
       "      <td>24</td>\n",
       "      <td>Cabecera Municipal</td>\n",
       "      <td>No realizó ninguna prueba de preparación</td>\n",
       "      <td>No responde</td>\n",
       "      <td>Educación profesional completa</td>\n",
       "      <td>Educación profesional completa</td>\n",
       "      <td>Estrato 4</td>\n",
       "      <td>Si</td>\n",
       "      <td>Si</td>\n",
       "      <td>Si</td>\n",
       "      <td>Si</td>\n",
       "      <td>Más de 30 horas</td>\n",
       "      <td>59</td>\n",
       "      <td>94</td>\n",
       "      <td>46</td>\n",
       "      <td>79</td>\n",
       "      <td>43</td>\n",
       "      <td>164</td>\n",
       "    </tr>\n",
       "    <tr>\n",
       "      <th>2</th>\n",
       "      <td>F</td>\n",
       "      <td>42</td>\n",
       "      <td>Cabecera Municipal</td>\n",
       "      <td>Repasó por cuenta propia</td>\n",
       "      <td>No responde</td>\n",
       "      <td>Secundaria (Bachillerato) completa</td>\n",
       "      <td>Primaria incompleta</td>\n",
       "      <td>Estrato 2</td>\n",
       "      <td>Si</td>\n",
       "      <td>No</td>\n",
       "      <td>Si</td>\n",
       "      <td>No</td>\n",
       "      <td>Entre 11 y 20 horas</td>\n",
       "      <td>17</td>\n",
       "      <td>29</td>\n",
       "      <td>19</td>\n",
       "      <td>22</td>\n",
       "      <td>18</td>\n",
       "      <td>124</td>\n",
       "    </tr>\n",
       "    <tr>\n",
       "      <th>3</th>\n",
       "      <td>F</td>\n",
       "      <td>24</td>\n",
       "      <td>Cabecera Municipal</td>\n",
       "      <td>Repasó por cuenta propia</td>\n",
       "      <td>No responde</td>\n",
       "      <td>Primaria incompleta</td>\n",
       "      <td>Ninguno</td>\n",
       "      <td>Estrato 1</td>\n",
       "      <td>Si</td>\n",
       "      <td>Si</td>\n",
       "      <td>No</td>\n",
       "      <td>No</td>\n",
       "      <td>Entre 21 y 30 horas</td>\n",
       "      <td>17</td>\n",
       "      <td>52</td>\n",
       "      <td>37</td>\n",
       "      <td>24</td>\n",
       "      <td>21</td>\n",
       "      <td>133</td>\n",
       "    </tr>\n",
       "    <tr>\n",
       "      <th>4</th>\n",
       "      <td>F</td>\n",
       "      <td>48</td>\n",
       "      <td>Cabecera Municipal</td>\n",
       "      <td>Repasó por cuenta propia</td>\n",
       "      <td>No responde</td>\n",
       "      <td>Primaria completa</td>\n",
       "      <td>Primaria completa</td>\n",
       "      <td>Estrato 1</td>\n",
       "      <td>No</td>\n",
       "      <td>Si</td>\n",
       "      <td>Si</td>\n",
       "      <td>No</td>\n",
       "      <td>Más de 30 horas</td>\n",
       "      <td>40</td>\n",
       "      <td>11</td>\n",
       "      <td>9</td>\n",
       "      <td>6</td>\n",
       "      <td>16</td>\n",
       "      <td>117</td>\n",
       "    </tr>\n",
       "  </tbody>\n",
       "</table>\n",
       "</div>"
      ],
      "text/plain": [
       "  ESTU_GENERO  EDAD     ESTU_AREARESIDE  \\\n",
       "0           M    29  Cabecera Municipal   \n",
       "1           M    24  Cabecera Municipal   \n",
       "2           F    42  Cabecera Municipal   \n",
       "3           F    24  Cabecera Municipal   \n",
       "4           F    48  Cabecera Municipal   \n",
       "\n",
       "                ESTU_COMOCAPACITOEXAMENSB11 ESTU_SIMULACROTIPOICFES  \\\n",
       "0                  Repasó por cuenta propia             No responde   \n",
       "1  No realizó ninguna prueba de preparación             No responde   \n",
       "2                  Repasó por cuenta propia             No responde   \n",
       "3                  Repasó por cuenta propia             No responde   \n",
       "4                  Repasó por cuenta propia             No responde   \n",
       "\n",
       "                    FAMI_EDUCACIONPADRE             FAMI_EDUCACIONMADRE  \\\n",
       "0  Secundaria (Bachillerato) incompleta             Primaria incompleta   \n",
       "1        Educación profesional completa  Educación profesional completa   \n",
       "2    Secundaria (Bachillerato) completa             Primaria incompleta   \n",
       "3                   Primaria incompleta                         Ninguno   \n",
       "4                     Primaria completa               Primaria completa   \n",
       "\n",
       "  FAMI_ESTRATOVIVIENDA FAMI_TIENEINTERNET FAMI_TIENECOMPUTADOR  \\\n",
       "0            Estrato 2                 Si                   Si   \n",
       "1            Estrato 4                 Si                   Si   \n",
       "2            Estrato 2                 Si                   No   \n",
       "3            Estrato 1                 Si                   Si   \n",
       "4            Estrato 1                 No                   Si   \n",
       "\n",
       "  FAMI_TIENESERVICIOTV FAMI_TIENECONSOLAVIDEOJUEGOS ESTU_HORASSEMANATRABAJA  \\\n",
       "0                   Si                           No         Más de 30 horas   \n",
       "1                   Si                           Si         Más de 30 horas   \n",
       "2                   Si                           No     Entre 11 y 20 horas   \n",
       "3                   No                           No     Entre 21 y 30 horas   \n",
       "4                   Si                           No         Más de 30 horas   \n",
       "\n",
       "   MOD_RAZONA_CUANTITATIVO_PNAL  MOD_LECTURA_CRITICA_PNAL  \\\n",
       "0                            36                         8   \n",
       "1                            59                        94   \n",
       "2                            17                        29   \n",
       "3                            17                        52   \n",
       "4                            40                        11   \n",
       "\n",
       "   MOD_COMPETEN_CIUDADA_PNAL  MOD_INGLES_PNAL  MOD_COMUNI_ESCRITA_PNAL  \\\n",
       "0                          8               10                       17   \n",
       "1                         46               79                       43   \n",
       "2                         19               22                       18   \n",
       "3                         37               24                       21   \n",
       "4                          9                6                       16   \n",
       "\n",
       "   PUNT_GLOBAL  \n",
       "0          117  \n",
       "1          164  \n",
       "2          124  \n",
       "3          133  \n",
       "4          117  "
      ]
     },
     "execution_count": 37,
     "metadata": {},
     "output_type": "execute_result"
    }
   ],
   "source": [
    "dataset.head(5)"
   ]
  },
  {
   "cell_type": "code",
   "execution_count": 38,
   "metadata": {},
   "outputs": [],
   "source": [
    "dataset = dataset.sample(10000)"
   ]
  },
  {
   "cell_type": "code",
   "execution_count": 39,
   "metadata": {},
   "outputs": [
    {
     "data": {
      "text/plain": [
       "(10000, 19)"
      ]
     },
     "execution_count": 39,
     "metadata": {},
     "output_type": "execute_result"
    }
   ],
   "source": [
    "dataset.shape"
   ]
  },
  {
   "cell_type": "code",
   "execution_count": 40,
   "metadata": {
    "id": "BYkLNYvkQOfI"
   },
   "outputs": [],
   "source": [
    "dataset.to_csv('resultados_icfes_limpio.csv',index = False)"
   ]
  },
  {
   "cell_type": "code",
   "execution_count": null,
   "metadata": {},
   "outputs": [],
   "source": []
  }
 ],
 "metadata": {
  "colab": {
   "authorship_tag": "ABX9TyPNzie2rFc+RvG6GjFP7vm1",
   "collapsed_sections": [],
   "name": "limpieza_de _datos.ipynb",
   "provenance": []
  },
  "kernelspec": {
   "display_name": "Python 3 (ipykernel)",
   "language": "python",
   "name": "python3"
  },
  "language_info": {
   "codemirror_mode": {
    "name": "ipython",
    "version": 3
   },
   "file_extension": ".py",
   "mimetype": "text/x-python",
   "name": "python",
   "nbconvert_exporter": "python",
   "pygments_lexer": "ipython3",
   "version": "3.11.5"
  }
 },
 "nbformat": 4,
 "nbformat_minor": 1
}
